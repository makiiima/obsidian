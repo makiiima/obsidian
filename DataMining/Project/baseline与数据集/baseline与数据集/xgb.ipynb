{
 "cells": [
  {
   "cell_type": "code",
   "execution_count": 2,
   "metadata": {},
   "outputs": [],
   "source": [
    "import os\n",
    "\n",
    "import numpy as np\n",
    "import pandas as pd\n",
    "import matplotlib.pyplot as plt\n",
    "%matplotlib inline\n",
    "\n",
    "data_dir = 'store-sales-time-series-forecasting'\n",
    "train_df = pd.read_csv(os.path.join(data_dir, 'train.csv'))\n",
    "stores_df = pd.read_csv(os.path.join(data_dir, 'stores.csv'))\n",
    "test_df = pd.read_csv(os.path.join(data_dir, 'test.csv'))\n",
    "oil_df = pd.read_csv(os.path.join(data_dir, 'oil.csv'))"
   ]
  },
  {
   "cell_type": "code",
   "execution_count": 6,
   "metadata": {},
   "outputs": [
    {
     "name": "stdout",
     "output_type": "stream",
     "text": [
      "['dcoilwtico']\n"
     ]
    }
   ],
   "source": [
    "print(oil_df.columns.tolist())"
   ]
  },
  {
   "cell_type": "code",
   "execution_count": 3,
   "metadata": {},
   "outputs": [],
   "source": [
    "oil_df = pd.read_csv(os.path.join(data_dir, 'oil.csv'))\n",
    "oil_df['date'] = pd.to_datetime(oil_df['date'])\n",
    "oil_df.set_index('date', inplace=True)\n",
    "\n",
    "train_df['date'] = pd.to_datetime(train_df['date'])\n",
    "train_df.set_index('date', inplace=True)\n",
    "\n",
    "sales_mean = train_df.groupby(['date'])['sales'].mean()\n",
    "sales_std = train_df.groupby(['date'])['sales'].std()\n",
    "\n",
    "train_df = pd.merge(train_df, oil_df, how='left', left_index=True, right_index=True)"
   ]
  },
  {
   "cell_type": "code",
   "execution_count": 4,
   "metadata": {},
   "outputs": [],
   "source": [
    "oil_mean = oil_df['dcoilwtico'].mean()\n",
    "oil_std = oil_df['dcoilwtico'].std()"
   ]
  },
  {
   "cell_type": "code",
   "execution_count": 7,
   "metadata": {},
   "outputs": [],
   "source": [
    "train_df = pd.merge(train_df, oil_df, how='left', left_index=True, right_index=True)\n",
    "\n",
    "train_df['sales'] = train_df['sales'].fillna(method='ffill')\n",
    "train_df['dcoilwtico'] = train_df['dcoilwtico'].fillna(oil_mean)"
   ]
  },
  {
   "cell_type": "code",
   "execution_count": 8,
   "metadata": {},
   "outputs": [
    {
     "name": "stderr",
     "output_type": "stream",
     "text": [
      "/var/folders/l5/bd9lmwcd5ybdb66ylq51zplh0000gn/T/ipykernel_48948/235091321.py:9: FutureWarning: weekofyear and week have been deprecated, please use DatetimeIndex.isocalendar().week instead, which returns a Series. To exactly reproduce the behavior of week and weekofyear and return an Index, you may call pd.Int64Index(idx.isocalendar().week)\n",
      "  train_df['week'] = train_df.index.week\n"
     ]
    }
   ],
   "source": [
    "train_df['sales_mean'] = train_df['sales'].rolling(window=7).mean()\n",
    "train_df['sales_std'] = train_df['sales'].rolling(window=7).std()\n",
    "\n",
    "train_df['oil_mean'] = train_df['dcoilwtico'].rolling(window=7).mean()\n",
    "train_df['oil_std'] = train_df['dcoilwtico'].rolling(window=7).std()\n",
    "\n",
    "train_df['year'] = train_df.index.year\n",
    "train_df['month'] = train_df.index.month\n",
    "train_df['week'] = train_df.index.week\n",
    "train_df['dayofweek'] = train_df.index.dayofweek"
   ]
  },
  {
   "cell_type": "code",
   "execution_count": 9,
   "metadata": {},
   "outputs": [],
   "source": [
    "import xgboost as xgb\n",
    "\n",
    "def train_xgb(train_df):\n",
    "    feature_cols = ['store_nbr', 'family', 'oil_mean', 'oil_std', 'sales_mean', 'sales_std', 'year', 'month', 'week', 'dayofweek']\n",
    "    dtrain = xgb.DMatrix(train_df[feature_cols], label=train_df['sales'])\n",
    "    params = {\n",
    "        'max_depth': 5,\n",
    "        'eta': 0.1,\n",
    "        'objective': 'reg:squarederror',\n",
    "        'eval_metric': 'rmse'\n",
    "    }\n",
    "    model = xgb.train(params, dtrain)\n",
    "    return model\n",
    "\n",
    "def predict_sales(train_df, test_df):\n",
    "    test_df = test_df.copy()\n",
    "    test_df['date'] = pd.to_datetime(test_df['date'])\n",
    "    test_df.set_index('date', inplace=True)\n",
    "\n",
    "    test_df = pd.merge(test_df, oil_df, how='left', left_index=True, right_index=True)\n",
    "    test_df['dcoilwtico'] = test_df['dcoilwtico'].fillna(oil_mean)\n",
    "\n",
    "    test_df['sales_mean'] = test_df['sales'].rolling(window=7).mean()\n",
    "    test_df['sales_std'] = test_df['sales'].rolling(window=7).std()\n",
    "\n",
    "    test_df['oil_mean'] = test_df['dcoilwtico'].rolling(window=7).mean()\n",
    "    test_df['oil_std'] = test_df['dcoilwtico'].rolling(window=7).std()\n",
    "\n",
    "    test_df['year'] = test_df.index.year\n",
    "    test_df['month'] = test_df.index.month\n",
    "    test_df['week'] = test_df.index.week\n",
    "    test_df['dayofweek'] = test_df.index.dayofweek\n",
    "\n",
    "\n",
    "\n",
    "\n",
    "from sklearn.metrics import mean_squared_error, mean_absolute_error\n",
    "\n",
    "def evaluate_model(train_df, test_df):\n",
    "    model = train_xgb(train_df)\n",
    "    y_true = test_df['sales'].values\n",
    "    y_pred = predict_sales(train_df, test_df)\n",
    "    rmse = np.sqrt(mean_squared_error(y_true, y_pred))\n",
    "    mae = mean_absolute_error(y_true, y_pred)\n",
    "    print(f'RMSE: {rmse:.2f}')\n",
    "    print(f'MAE: {mae:.2f}')\n"
   ]
  },
  {
   "cell_type": "code",
   "execution_count": 10,
   "metadata": {},
   "outputs": [
    {
     "ename": "ValueError",
     "evalue": "DataFrame.dtypes for data must be int, float, bool or category. When categorical type is supplied, The experimental DMatrix parameter`enable_categorical` must be set to `True`.  Invalid columns:family: object",
     "output_type": "error",
     "traceback": [
      "\u001b[0;31m---------------------------------------------------------------------------\u001b[0m",
      "\u001b[0;31mValueError\u001b[0m                                Traceback (most recent call last)",
      "Cell \u001b[0;32mIn[10], line 2\u001b[0m\n\u001b[1;32m      1\u001b[0m test_df \u001b[39m=\u001b[39m pd\u001b[39m.\u001b[39mread_csv(os\u001b[39m.\u001b[39mpath\u001b[39m.\u001b[39mjoin(data_dir, \u001b[39m'\u001b[39m\u001b[39mtest.csv\u001b[39m\u001b[39m'\u001b[39m))\n\u001b[0;32m----> 2\u001b[0m evaluate_model(train_df, test_df)\n",
      "Cell \u001b[0;32mIn[9], line 40\u001b[0m, in \u001b[0;36mevaluate_model\u001b[0;34m(train_df, test_df)\u001b[0m\n\u001b[1;32m     39\u001b[0m \u001b[39mdef\u001b[39;00m \u001b[39mevaluate_model\u001b[39m(train_df, test_df):\n\u001b[0;32m---> 40\u001b[0m     model \u001b[39m=\u001b[39m train_xgb(train_df)\n\u001b[1;32m     41\u001b[0m     y_true \u001b[39m=\u001b[39m test_df[\u001b[39m'\u001b[39m\u001b[39msales\u001b[39m\u001b[39m'\u001b[39m]\u001b[39m.\u001b[39mvalues\n\u001b[1;32m     42\u001b[0m     y_pred \u001b[39m=\u001b[39m predict_sales(train_df, test_df)\n",
      "Cell \u001b[0;32mIn[9], line 5\u001b[0m, in \u001b[0;36mtrain_xgb\u001b[0;34m(train_df)\u001b[0m\n\u001b[1;32m      3\u001b[0m \u001b[39mdef\u001b[39;00m \u001b[39mtrain_xgb\u001b[39m(train_df):\n\u001b[1;32m      4\u001b[0m     feature_cols \u001b[39m=\u001b[39m [\u001b[39m'\u001b[39m\u001b[39mstore_nbr\u001b[39m\u001b[39m'\u001b[39m, \u001b[39m'\u001b[39m\u001b[39mfamily\u001b[39m\u001b[39m'\u001b[39m, \u001b[39m'\u001b[39m\u001b[39moil_mean\u001b[39m\u001b[39m'\u001b[39m, \u001b[39m'\u001b[39m\u001b[39moil_std\u001b[39m\u001b[39m'\u001b[39m, \u001b[39m'\u001b[39m\u001b[39msales_mean\u001b[39m\u001b[39m'\u001b[39m, \u001b[39m'\u001b[39m\u001b[39msales_std\u001b[39m\u001b[39m'\u001b[39m, \u001b[39m'\u001b[39m\u001b[39myear\u001b[39m\u001b[39m'\u001b[39m, \u001b[39m'\u001b[39m\u001b[39mmonth\u001b[39m\u001b[39m'\u001b[39m, \u001b[39m'\u001b[39m\u001b[39mweek\u001b[39m\u001b[39m'\u001b[39m, \u001b[39m'\u001b[39m\u001b[39mdayofweek\u001b[39m\u001b[39m'\u001b[39m]\n\u001b[0;32m----> 5\u001b[0m     dtrain \u001b[39m=\u001b[39m xgb\u001b[39m.\u001b[39;49mDMatrix(train_df[feature_cols], label\u001b[39m=\u001b[39;49mtrain_df[\u001b[39m'\u001b[39;49m\u001b[39msales\u001b[39;49m\u001b[39m'\u001b[39;49m])\n\u001b[1;32m      6\u001b[0m     params \u001b[39m=\u001b[39m {\n\u001b[1;32m      7\u001b[0m         \u001b[39m'\u001b[39m\u001b[39mmax_depth\u001b[39m\u001b[39m'\u001b[39m: \u001b[39m5\u001b[39m,\n\u001b[1;32m      8\u001b[0m         \u001b[39m'\u001b[39m\u001b[39meta\u001b[39m\u001b[39m'\u001b[39m: \u001b[39m0.1\u001b[39m,\n\u001b[1;32m      9\u001b[0m         \u001b[39m'\u001b[39m\u001b[39mobjective\u001b[39m\u001b[39m'\u001b[39m: \u001b[39m'\u001b[39m\u001b[39mreg:squarederror\u001b[39m\u001b[39m'\u001b[39m,\n\u001b[1;32m     10\u001b[0m         \u001b[39m'\u001b[39m\u001b[39meval_metric\u001b[39m\u001b[39m'\u001b[39m: \u001b[39m'\u001b[39m\u001b[39mrmse\u001b[39m\u001b[39m'\u001b[39m\n\u001b[1;32m     11\u001b[0m     }\n\u001b[1;32m     12\u001b[0m     model \u001b[39m=\u001b[39m xgb\u001b[39m.\u001b[39mtrain(params, dtrain)\n",
      "File \u001b[0;32m~/miniconda3/envs/DMcourse/lib/python3.10/site-packages/xgboost/core.py:620\u001b[0m, in \u001b[0;36mrequire_keyword_args.<locals>.throw_if.<locals>.inner_f\u001b[0;34m(*args, **kwargs)\u001b[0m\n\u001b[1;32m    618\u001b[0m \u001b[39mfor\u001b[39;00m k, arg \u001b[39min\u001b[39;00m \u001b[39mzip\u001b[39m(sig\u001b[39m.\u001b[39mparameters, args):\n\u001b[1;32m    619\u001b[0m     kwargs[k] \u001b[39m=\u001b[39m arg\n\u001b[0;32m--> 620\u001b[0m \u001b[39mreturn\u001b[39;00m func(\u001b[39m*\u001b[39;49m\u001b[39m*\u001b[39;49mkwargs)\n",
      "File \u001b[0;32m~/miniconda3/envs/DMcourse/lib/python3.10/site-packages/xgboost/core.py:743\u001b[0m, in \u001b[0;36mDMatrix.__init__\u001b[0;34m(self, data, label, weight, base_margin, missing, silent, feature_names, feature_types, nthread, group, qid, label_lower_bound, label_upper_bound, feature_weights, enable_categorical)\u001b[0m\n\u001b[1;32m    740\u001b[0m     \u001b[39massert\u001b[39;00m \u001b[39mself\u001b[39m\u001b[39m.\u001b[39mhandle \u001b[39mis\u001b[39;00m \u001b[39mnot\u001b[39;00m \u001b[39mNone\u001b[39;00m\n\u001b[1;32m    741\u001b[0m     \u001b[39mreturn\u001b[39;00m\n\u001b[0;32m--> 743\u001b[0m handle, feature_names, feature_types \u001b[39m=\u001b[39m dispatch_data_backend(\n\u001b[1;32m    744\u001b[0m     data,\n\u001b[1;32m    745\u001b[0m     missing\u001b[39m=\u001b[39;49m\u001b[39mself\u001b[39;49m\u001b[39m.\u001b[39;49mmissing,\n\u001b[1;32m    746\u001b[0m     threads\u001b[39m=\u001b[39;49m\u001b[39mself\u001b[39;49m\u001b[39m.\u001b[39;49mnthread,\n\u001b[1;32m    747\u001b[0m     feature_names\u001b[39m=\u001b[39;49mfeature_names,\n\u001b[1;32m    748\u001b[0m     feature_types\u001b[39m=\u001b[39;49mfeature_types,\n\u001b[1;32m    749\u001b[0m     enable_categorical\u001b[39m=\u001b[39;49menable_categorical,\n\u001b[1;32m    750\u001b[0m )\n\u001b[1;32m    751\u001b[0m \u001b[39massert\u001b[39;00m handle \u001b[39mis\u001b[39;00m \u001b[39mnot\u001b[39;00m \u001b[39mNone\u001b[39;00m\n\u001b[1;32m    752\u001b[0m \u001b[39mself\u001b[39m\u001b[39m.\u001b[39mhandle \u001b[39m=\u001b[39m handle\n",
      "File \u001b[0;32m~/miniconda3/envs/DMcourse/lib/python3.10/site-packages/xgboost/data.py:957\u001b[0m, in \u001b[0;36mdispatch_data_backend\u001b[0;34m(data, missing, threads, feature_names, feature_types, enable_categorical)\u001b[0m\n\u001b[1;32m    955\u001b[0m     \u001b[39mreturn\u001b[39;00m _from_tuple(data, missing, threads, feature_names, feature_types)\n\u001b[1;32m    956\u001b[0m \u001b[39mif\u001b[39;00m _is_pandas_df(data):\n\u001b[0;32m--> 957\u001b[0m     \u001b[39mreturn\u001b[39;00m _from_pandas_df(data, enable_categorical, missing, threads,\n\u001b[1;32m    958\u001b[0m                            feature_names, feature_types)\n\u001b[1;32m    959\u001b[0m \u001b[39mif\u001b[39;00m _is_pandas_series(data):\n\u001b[1;32m    960\u001b[0m     \u001b[39mreturn\u001b[39;00m _from_pandas_series(\n\u001b[1;32m    961\u001b[0m         data, missing, threads, enable_categorical, feature_names, feature_types\n\u001b[1;32m    962\u001b[0m     )\n",
      "File \u001b[0;32m~/miniconda3/envs/DMcourse/lib/python3.10/site-packages/xgboost/data.py:404\u001b[0m, in \u001b[0;36m_from_pandas_df\u001b[0;34m(data, enable_categorical, missing, nthread, feature_names, feature_types)\u001b[0m\n\u001b[1;32m    396\u001b[0m \u001b[39mdef\u001b[39;00m \u001b[39m_from_pandas_df\u001b[39m(\n\u001b[1;32m    397\u001b[0m     data: DataFrame,\n\u001b[1;32m    398\u001b[0m     enable_categorical: \u001b[39mbool\u001b[39m,\n\u001b[0;32m   (...)\u001b[0m\n\u001b[1;32m    402\u001b[0m     feature_types: Optional[FeatureTypes],\n\u001b[1;32m    403\u001b[0m ) \u001b[39m-\u001b[39m\u001b[39m>\u001b[39m DispatchedDataBackendReturnType:\n\u001b[0;32m--> 404\u001b[0m     data, feature_names, feature_types \u001b[39m=\u001b[39m _transform_pandas_df(\n\u001b[1;32m    405\u001b[0m         data, enable_categorical, feature_names, feature_types\n\u001b[1;32m    406\u001b[0m     )\n\u001b[1;32m    407\u001b[0m     \u001b[39mreturn\u001b[39;00m _from_numpy_array(data, missing, nthread, feature_names, feature_types)\n",
      "File \u001b[0;32m~/miniconda3/envs/DMcourse/lib/python3.10/site-packages/xgboost/data.py:378\u001b[0m, in \u001b[0;36m_transform_pandas_df\u001b[0;34m(data, enable_categorical, feature_names, feature_types, meta, meta_type)\u001b[0m\n\u001b[1;32m    366\u001b[0m \u001b[39mfrom\u001b[39;00m \u001b[39mpandas\u001b[39;00m\u001b[39m.\u001b[39;00m\u001b[39mapi\u001b[39;00m\u001b[39m.\u001b[39;00m\u001b[39mtypes\u001b[39;00m \u001b[39mimport\u001b[39;00m (\n\u001b[1;32m    367\u001b[0m     is_sparse,\n\u001b[1;32m    368\u001b[0m     is_categorical_dtype,\n\u001b[1;32m    369\u001b[0m )\n\u001b[1;32m    371\u001b[0m \u001b[39mif\u001b[39;00m \u001b[39mnot\u001b[39;00m \u001b[39mall\u001b[39m(\n\u001b[1;32m    372\u001b[0m     dtype\u001b[39m.\u001b[39mname \u001b[39min\u001b[39;00m _pandas_dtype_mapper\n\u001b[1;32m    373\u001b[0m     \u001b[39mor\u001b[39;00m is_sparse(dtype)\n\u001b[0;32m   (...)\u001b[0m\n\u001b[1;32m    376\u001b[0m     \u001b[39mfor\u001b[39;00m dtype \u001b[39min\u001b[39;00m data\u001b[39m.\u001b[39mdtypes\n\u001b[1;32m    377\u001b[0m ):\n\u001b[0;32m--> 378\u001b[0m     _invalid_dataframe_dtype(data)\n\u001b[1;32m    380\u001b[0m feature_names, feature_types \u001b[39m=\u001b[39m _pandas_feature_info(\n\u001b[1;32m    381\u001b[0m     data, meta, feature_names, feature_types, enable_categorical\n\u001b[1;32m    382\u001b[0m )\n\u001b[1;32m    384\u001b[0m transformed \u001b[39m=\u001b[39m _pandas_cat_null(data)\n",
      "File \u001b[0;32m~/miniconda3/envs/DMcourse/lib/python3.10/site-packages/xgboost/data.py:270\u001b[0m, in \u001b[0;36m_invalid_dataframe_dtype\u001b[0;34m(data)\u001b[0m\n\u001b[1;32m    268\u001b[0m type_err \u001b[39m=\u001b[39m \u001b[39m\"\u001b[39m\u001b[39mDataFrame.dtypes for data must be int, float, bool or category.\u001b[39m\u001b[39m\"\u001b[39m\n\u001b[1;32m    269\u001b[0m msg \u001b[39m=\u001b[39m \u001b[39mf\u001b[39m\u001b[39m\"\"\"\u001b[39m\u001b[39m{\u001b[39;00mtype_err\u001b[39m}\u001b[39;00m\u001b[39m \u001b[39m\u001b[39m{\u001b[39;00m_ENABLE_CAT_ERR\u001b[39m}\u001b[39;00m\u001b[39m \u001b[39m\u001b[39m{\u001b[39;00merr\u001b[39m}\u001b[39;00m\u001b[39m\"\"\"\u001b[39m\n\u001b[0;32m--> 270\u001b[0m \u001b[39mraise\u001b[39;00m \u001b[39mValueError\u001b[39;00m(msg)\n",
      "\u001b[0;31mValueError\u001b[0m: DataFrame.dtypes for data must be int, float, bool or category. When categorical type is supplied, The experimental DMatrix parameter`enable_categorical` must be set to `True`.  Invalid columns:family: object"
     ]
    }
   ],
   "source": [
    "test_df = pd.read_csv(os.path.join(data_dir, 'test.csv'))\n",
    "evaluate_model(train_df, test_df)\n",
    "\n"
   ]
  }
 ],
 "metadata": {
  "kernelspec": {
   "display_name": "DMcourse",
   "language": "python",
   "name": "python3"
  },
  "language_info": {
   "codemirror_mode": {
    "name": "ipython",
    "version": 3
   },
   "file_extension": ".py",
   "mimetype": "text/x-python",
   "name": "python",
   "nbconvert_exporter": "python",
   "pygments_lexer": "ipython3",
   "version": "3.10.11"
  },
  "orig_nbformat": 4
 },
 "nbformat": 4,
 "nbformat_minor": 2
}
