{
 "cells": [
  {
   "cell_type": "code",
   "execution_count": 2,
   "metadata": {},
   "outputs": [],
   "source": [
    "import os\n",
    "\n",
    "import numpy as np\n",
    "import pandas as pd\n",
    "import matplotlib.pyplot as plt\n",
    "%matplotlib inline\n",
    "\n",
    "data_dir = 'store-sales-time-series-forecasting'\n",
    "train_df = pd.read_csv(os.path.join(data_dir, 'train.csv'))\n",
    "stores_df = pd.read_csv(os.path.join(data_dir, 'stores.csv'))\n",
    "test_df = pd.read_csv(os.path.join(data_dir, 'test.csv'))\n",
    "oil_df = pd.read_csv(os.path.join(data_dir, 'oil.csv'))"
   ]
  },
  {
   "cell_type": "code",
   "execution_count": 6,
   "metadata": {},
   "outputs": [
    {
     "name": "stdout",
     "output_type": "stream",
     "text": [
      "['dcoilwtico']\n"
     ]
    }
   ],
   "source": [
    "print(oil_df.columns.tolist())"
   ]
  },
  {
   "cell_type": "code",
   "execution_count": 3,
   "metadata": {},
   "outputs": [],
   "source": [
    "oil_df = pd.read_csv(os.path.join(data_dir, 'oil.csv'))\n",
    "oil_df['date'] = pd.to_datetime(oil_df['date'])\n",
    "oil_df.set_index('date', inplace=True)\n",
    "\n",
    "train_df['date'] = pd.to_datetime(train_df['date'])\n",
    "train_df.set_index('date', inplace=True)\n",
    "\n",
    "sales_mean = train_df.groupby(['date'])['sales'].mean()\n",
    "sales_std = train_df.groupby(['date'])['sales'].std()\n",
    "\n",
    "train_df = pd.merge(train_df, oil_df, how='left', left_index=True, right_index=True)"
   ]
  },
  {
   "cell_type": "code",
   "execution_count": 4,
   "metadata": {},
   "outputs": [],
   "source": [
    "oil_mean = oil_df['dcoilwtico'].mean()\n",
    "oil_std = oil_df['dcoilwtico'].std()"
   ]
  },
  {
   "cell_type": "code",
   "execution_count": 5,
   "metadata": {},
   "outputs": [
    {
     "ename": "KeyError",
     "evalue": "'dcoilwtico'",
     "output_type": "error",
     "traceback": [
      "\u001b[0;31m---------------------------------------------------------------------------\u001b[0m",
      "\u001b[0;31mKeyError\u001b[0m                                  Traceback (most recent call last)",
      "File \u001b[0;32m~/miniconda3/envs/DMcourse/lib/python3.10/site-packages/pandas/core/indexes/base.py:3802\u001b[0m, in \u001b[0;36mIndex.get_loc\u001b[0;34m(self, key, method, tolerance)\u001b[0m\n\u001b[1;32m   3801\u001b[0m \u001b[39mtry\u001b[39;00m:\n\u001b[0;32m-> 3802\u001b[0m     \u001b[39mreturn\u001b[39;00m \u001b[39mself\u001b[39;49m\u001b[39m.\u001b[39;49m_engine\u001b[39m.\u001b[39;49mget_loc(casted_key)\n\u001b[1;32m   3803\u001b[0m \u001b[39mexcept\u001b[39;00m \u001b[39mKeyError\u001b[39;00m \u001b[39mas\u001b[39;00m err:\n",
      "File \u001b[0;32m~/miniconda3/envs/DMcourse/lib/python3.10/site-packages/pandas/_libs/index.pyx:138\u001b[0m, in \u001b[0;36mpandas._libs.index.IndexEngine.get_loc\u001b[0;34m()\u001b[0m\n",
      "File \u001b[0;32m~/miniconda3/envs/DMcourse/lib/python3.10/site-packages/pandas/_libs/index.pyx:165\u001b[0m, in \u001b[0;36mpandas._libs.index.IndexEngine.get_loc\u001b[0;34m()\u001b[0m\n",
      "File \u001b[0;32mpandas/_libs/hashtable_class_helper.pxi:5745\u001b[0m, in \u001b[0;36mpandas._libs.hashtable.PyObjectHashTable.get_item\u001b[0;34m()\u001b[0m\n",
      "File \u001b[0;32mpandas/_libs/hashtable_class_helper.pxi:5753\u001b[0m, in \u001b[0;36mpandas._libs.hashtable.PyObjectHashTable.get_item\u001b[0;34m()\u001b[0m\n",
      "\u001b[0;31mKeyError\u001b[0m: 'dcoilwtico'",
      "\nThe above exception was the direct cause of the following exception:\n",
      "\u001b[0;31mKeyError\u001b[0m                                  Traceback (most recent call last)",
      "Cell \u001b[0;32mIn[5], line 4\u001b[0m\n\u001b[1;32m      1\u001b[0m train_df \u001b[39m=\u001b[39m pd\u001b[39m.\u001b[39mmerge(train_df, oil_df, how\u001b[39m=\u001b[39m\u001b[39m'\u001b[39m\u001b[39mleft\u001b[39m\u001b[39m'\u001b[39m, left_index\u001b[39m=\u001b[39m\u001b[39mTrue\u001b[39;00m, right_index\u001b[39m=\u001b[39m\u001b[39mTrue\u001b[39;00m)\n\u001b[1;32m      3\u001b[0m train_df[\u001b[39m'\u001b[39m\u001b[39msales\u001b[39m\u001b[39m'\u001b[39m] \u001b[39m=\u001b[39m train_df[\u001b[39m'\u001b[39m\u001b[39msales\u001b[39m\u001b[39m'\u001b[39m]\u001b[39m.\u001b[39mfillna(method\u001b[39m=\u001b[39m\u001b[39m'\u001b[39m\u001b[39mffill\u001b[39m\u001b[39m'\u001b[39m)\n\u001b[0;32m----> 4\u001b[0m train_df[\u001b[39m'\u001b[39m\u001b[39mdcoilwtico\u001b[39m\u001b[39m'\u001b[39m] \u001b[39m=\u001b[39m train_df[\u001b[39m'\u001b[39;49m\u001b[39mdcoilwtico\u001b[39;49m\u001b[39m'\u001b[39;49m]\u001b[39m.\u001b[39mfillna(oil_mean)\n",
      "File \u001b[0;32m~/miniconda3/envs/DMcourse/lib/python3.10/site-packages/pandas/core/frame.py:3807\u001b[0m, in \u001b[0;36mDataFrame.__getitem__\u001b[0;34m(self, key)\u001b[0m\n\u001b[1;32m   3805\u001b[0m \u001b[39mif\u001b[39;00m \u001b[39mself\u001b[39m\u001b[39m.\u001b[39mcolumns\u001b[39m.\u001b[39mnlevels \u001b[39m>\u001b[39m \u001b[39m1\u001b[39m:\n\u001b[1;32m   3806\u001b[0m     \u001b[39mreturn\u001b[39;00m \u001b[39mself\u001b[39m\u001b[39m.\u001b[39m_getitem_multilevel(key)\n\u001b[0;32m-> 3807\u001b[0m indexer \u001b[39m=\u001b[39m \u001b[39mself\u001b[39;49m\u001b[39m.\u001b[39;49mcolumns\u001b[39m.\u001b[39;49mget_loc(key)\n\u001b[1;32m   3808\u001b[0m \u001b[39mif\u001b[39;00m is_integer(indexer):\n\u001b[1;32m   3809\u001b[0m     indexer \u001b[39m=\u001b[39m [indexer]\n",
      "File \u001b[0;32m~/miniconda3/envs/DMcourse/lib/python3.10/site-packages/pandas/core/indexes/base.py:3804\u001b[0m, in \u001b[0;36mIndex.get_loc\u001b[0;34m(self, key, method, tolerance)\u001b[0m\n\u001b[1;32m   3802\u001b[0m     \u001b[39mreturn\u001b[39;00m \u001b[39mself\u001b[39m\u001b[39m.\u001b[39m_engine\u001b[39m.\u001b[39mget_loc(casted_key)\n\u001b[1;32m   3803\u001b[0m \u001b[39mexcept\u001b[39;00m \u001b[39mKeyError\u001b[39;00m \u001b[39mas\u001b[39;00m err:\n\u001b[0;32m-> 3804\u001b[0m     \u001b[39mraise\u001b[39;00m \u001b[39mKeyError\u001b[39;00m(key) \u001b[39mfrom\u001b[39;00m \u001b[39merr\u001b[39;00m\n\u001b[1;32m   3805\u001b[0m \u001b[39mexcept\u001b[39;00m \u001b[39mTypeError\u001b[39;00m:\n\u001b[1;32m   3806\u001b[0m     \u001b[39m# If we have a listlike key, _check_indexing_error will raise\u001b[39;00m\n\u001b[1;32m   3807\u001b[0m     \u001b[39m#  InvalidIndexError. Otherwise we fall through and re-raise\u001b[39;00m\n\u001b[1;32m   3808\u001b[0m     \u001b[39m#  the TypeError.\u001b[39;00m\n\u001b[1;32m   3809\u001b[0m     \u001b[39mself\u001b[39m\u001b[39m.\u001b[39m_check_indexing_error(key)\n",
      "\u001b[0;31mKeyError\u001b[0m: 'dcoilwtico'"
     ]
    }
   ],
   "source": [
    "train_df = pd.merge(train_df, oil_df, how='left', left_index=True, right_index=True)\n",
    "\n",
    "train_df['sales'] = train_df['sales'].fillna(method='ffill')\n",
    "train_df['dcoilwtico'] = train_df['dcoilwtico'].fillna(oil_mean)"
   ]
  },
  {
   "cell_type": "code",
   "execution_count": null,
   "metadata": {},
   "outputs": [],
   "source": [
    "train_df['sales_mean'] = train_df['sales'].rolling(window=7).mean()\n",
    "train_df['sales_std'] = train_df['sales'].rolling(window=7).std()\n",
    "\n",
    "train_df['oil_mean'] = train_df['dcoilwtico'].rolling(window=7).mean()\n",
    "train_df['oil_std'] = train_df['dcoilwtico'].rolling(window=7).std()\n",
    "\n",
    "train_df['year'] = train_df.index.year\n",
    "train_df['month'] = train_df.index.month\n",
    "train_df['week'] = train_df.index.week\n",
    "train_df['dayofweek'] = train_df.index.dayofweek"
   ]
  },
  {
   "cell_type": "code",
   "execution_count": null,
   "metadata": {},
   "outputs": [],
   "source": [
    "import xgboost as xgb\n",
    "\n",
    "def train_xgb(train_df):\n",
    "    feature_cols = ['store_nbr', 'family', 'oil_mean', 'oil_std', 'sales_mean', 'sales_std', 'year', 'month', 'week', 'dayofweek']\n",
    "    dtrain = xgb.DMatrix(train_df[feature_cols], label=train_df['sales'])\n",
    "    params = {\n",
    "        'max_depth': 5,\n",
    "        'eta': 0.1,\n",
    "        'objective': 'reg:squarederror',\n",
    "        'eval_metric': 'rmse'\n",
    "    }\n",
    "    model = xgb.train(params, dtrain)\n",
    "    return model\n",
    "\n",
    "def predict_sales(train_df, test_df):\n",
    "    test_df = test_df.copy()\n",
    "    test_df['date'] = pd.to_datetime(test_df['date'])\n",
    "    test_df.set_index('date', inplace=True)\n",
    "\n",
    "    test_df = pd.merge(test_df, oil_df, how='left', left_index=True, right_index=True)\n",
    "    test_df['dcoilwtico'] = test_df['dcoilwtico'].fillna(oil_mean)\n",
    "\n",
    "    test_df['sales_mean'] = test_df['sales'].rolling(window=7).mean()\n",
    "    test_df['sales_std'] = test_df['sales'].rolling(window=7).std()\n",
    "\n",
    "    test_df['oil_mean'] = test_df['dcoilwtico'].rolling(window=7).mean()\n",
    "    test_df['oil_std'] = test_df['dcoilwtico'].rolling(window=7).std()\n",
    "\n",
    "    test_df['year'] = test_df.index.year\n",
    "    test_df['month'] = test_df.index.month\n",
    "    test_df['week'] = test_df.index.week\n",
    "    test_df['dayofweek'] = test_df.index.dayofweek\n",
    "\n",
    "\n",
    "\n",
    "\n",
    "from sklearn.metrics import mean_squared_error, mean_absolute_error\n",
    "\n",
    "def evaluate_model(train_df, test_df):\n",
    "    model = train_xgb(train_df)\n",
    "    y_true = test_df['sales'].values\n",
    "    y_pred = predict_sales(train_df, test_df)\n",
    "    rmse = np.sqrt(mean_squared_error(y_true, y_pred))\n",
    "    mae = mean_absolute_error(y_true, y_pred)\n",
    "    print(f'RMSE: {rmse:.2f}')\n",
    "    print(f'MAE: {mae:.2f}')\n"
   ]
  },
  {
   "cell_type": "code",
   "execution_count": null,
   "metadata": {},
   "outputs": [],
   "source": [
    "test_df = pd.read_csv(os.path.join(data_dir, 'test.csv'))\n",
    "evaluate_model(train_df, test_df)\n",
    "\n"
   ]
  }
 ],
 "metadata": {
  "kernelspec": {
   "display_name": "DMcourse",
   "language": "python",
   "name": "python3"
  },
  "language_info": {
   "codemirror_mode": {
    "name": "ipython",
    "version": 3
   },
   "file_extension": ".py",
   "mimetype": "text/x-python",
   "name": "python",
   "nbconvert_exporter": "python",
   "pygments_lexer": "ipython3",
   "version": "3.10.11"
  },
  "orig_nbformat": 4
 },
 "nbformat": 4,
 "nbformat_minor": 2
}
