{
 "cells": [
  {
   "cell_type": "code",
   "execution_count": 1,
   "metadata": {},
   "outputs": [],
   "source": [
    "import os\n",
    "\n",
    "import numpy as np\n",
    "import pandas as pd\n",
    "import matplotlib.pyplot as plt\n",
    "%matplotlib inline\n",
    "\n",
    "data_dir = 'store-sales-time-series-forecasting'\n",
    "train_df = pd.read_csv(os.path.join(data_dir, 'train.csv'))\n",
    "stores_df = pd.read_csv(os.path.join(data_dir, 'stores.csv'))\n",
    "test_df = pd.read_csv(os.path.join(data_dir, 'test.csv'))\n",
    "oil_df = pd.read_csv(os.path.join(data_dir, 'oil.csv'))\n"
   ]
  },
  {
   "cell_type": "code",
   "execution_count": 2,
   "metadata": {},
   "outputs": [],
   "source": [
    "from statistics import mean\n",
    "from datetime import datetime, timedelta\n",
    "import warnings\n",
    "warnings.filterwarnings('ignore')\n",
    "\n",
    "forecast = pd.DataFrame()\n",
    "\n",
    "for store in set(train_df['store_nbr'].unique()):\n",
    "    for family in train_df['family'].unique():\n",
    "\n",
    "        series = train_df[(train_df['store_nbr'] == store) & (train_df['family'] == family)]\n",
    "        sales = list(series['sales'])\n",
    "        for i in range(16):\n",
    "            sales.append(mean(sales[-7:]))\n",
    "\n",
    "        target = test_df[(test_df['store_nbr'] == store) & (test_df['family'] == family)]\n",
    "        target['sales'] = sales[-16:]\n",
    "        forecast = pd.concat([forecast, target])\n",
    "\n",
    "forecast.sort_index(inplace=True)\n",
    "\n"
   ]
  },
  {
   "cell_type": "code",
   "execution_count": 3,
   "metadata": {},
   "outputs": [],
   "source": [
    "output = forecast[['id', 'sales']]\n",
    "output.to_csv('submission_baseline.csv', index=False)"
   ]
  },
  {
   "cell_type": "code",
   "execution_count": null,
   "metadata": {},
   "outputs": [],
   "source": []
  }
 ],
 "metadata": {
  "kernelspec": {
   "display_name": "Python 3 (ipykernel)",
   "language": "python",
   "name": "python3"
  },
  "language_info": {
   "codemirror_mode": {
    "name": "ipython",
    "version": 3
   },
   "file_extension": ".py",
   "mimetype": "text/x-python",
   "name": "python",
   "nbconvert_exporter": "python",
   "pygments_lexer": "ipython3",
   "version": "3.10.11"
  },
  "vscode": {
   "interpreter": {
    "hash": "31f2aee4e71d21fbe5cf8b01ff0e069b9275f58929596ceb00d14d90e3e16cd6"
   }
  }
 },
 "nbformat": 4,
 "nbformat_minor": 2
}
