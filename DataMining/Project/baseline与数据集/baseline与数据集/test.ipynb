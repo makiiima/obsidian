{
 "cells": [
  {
   "cell_type": "code",
   "execution_count": 2,
   "metadata": {},
   "outputs": [
    {
     "ename": "NameError",
     "evalue": "name 'data_dir' is not defined",
     "output_type": "error",
     "traceback": [
      "\u001b[0;31m---------------------------------------------------------------------------\u001b[0m",
      "\u001b[0;31mNameError\u001b[0m                                 Traceback (most recent call last)",
      "Cell \u001b[0;32mIn[2], line 7\u001b[0m\n\u001b[1;32m      5\u001b[0m \u001b[39mimport\u001b[39;00m \u001b[39mmatplotlib\u001b[39;00m\u001b[39m.\u001b[39;00m\u001b[39mpyplot\u001b[39;00m \u001b[39mas\u001b[39;00m \u001b[39mplt\u001b[39;00m\n\u001b[1;32m      6\u001b[0m \u001b[39m# 加载数据\u001b[39;00m\n\u001b[0;32m----> 7\u001b[0m train_df \u001b[39m=\u001b[39m pd\u001b[39m.\u001b[39mread_csv(os\u001b[39m.\u001b[39mpath\u001b[39m.\u001b[39mjoin(data_dir, \u001b[39m'\u001b[39m\u001b[39mtrain.csv\u001b[39m\u001b[39m'\u001b[39m))\n\u001b[1;32m      8\u001b[0m stores_df \u001b[39m=\u001b[39m pd\u001b[39m.\u001b[39mread_csv(os\u001b[39m.\u001b[39mpath\u001b[39m.\u001b[39mjoin(data_dir, \u001b[39m'\u001b[39m\u001b[39mstores.csv\u001b[39m\u001b[39m'\u001b[39m))\n\u001b[1;32m      9\u001b[0m test_df \u001b[39m=\u001b[39m pd\u001b[39m.\u001b[39mread_csv(os\u001b[39m.\u001b[39mpath\u001b[39m.\u001b[39mjoin(data_dir, \u001b[39m'\u001b[39m\u001b[39mtest.csv\u001b[39m\u001b[39m'\u001b[39m))\n",
      "\u001b[0;31mNameError\u001b[0m: name 'data_dir' is not defined"
     ]
    }
   ],
   "source": [
    "import os\n",
    "\n",
    "import numpy as np\n",
    "import pandas as pd\n",
    "import matplotlib.pyplot as plt\n",
    "# 加载数据\n",
    "train_df = pd.read_csv(os.path.join(data_dir, 'train.csv'))\n",
    "stores_df = pd.read_csv(os.path.join(data_dir, 'stores.csv'))\n",
    "test_df = pd.read_csv(os.path.join(data_dir, 'test.csv'))\n",
    "oil_df = pd.read_csv(os.path.join(data_dir, 'oil.csv'))\n",
    "holiday_df = pd.read_csv(os.path.join(data_dir, 'holiday_events.csv'))\n",
    "\n",
    "# 将日期转换为datetime类型\n",
    "train_df['date'] = pd.to_datetime(train_df['date'])\n",
    "test_df['date'] = pd.to_datetime(test_df['date'])\n",
    "oil_df['date'] = pd.to_datetime(oil_df['date'])\n",
    "holiday_df['date'] = pd.to_datetime(holiday_df['date'])\n",
    "\n",
    "# 将油价数据加入到训练数据中\n",
    "train_df = pd.merge(train_df, oil_df, on='date', how='left')\n",
    "test_df = pd.merge(test_df, oil_df, on='date', how='left')\n",
    "\n",
    "# 将节假日数据加入到训练数据中\n",
    "train_df = pd.merge(train_df, holiday_df, on='date', how='left')\n",
    "test_df = pd.merge(test_df, holiday_df, on='date', how='left')\n",
    "\n",
    "# 特征工程\n",
    "train_df['month'] = train_df['date'].dt.month\n",
    "train_df['day'] = train_df['date'].dt.day\n",
    "train_df['dayofweek'] = train_df['date'].dt.dayofweek\n",
    "train_df['is_promotion'] = train_df['onpromotion'].apply(lambda x: 1 if x else 0)\n",
    "train_df['is_holiday'] = train_df['type'].apply(lambda x: 1 if x == 'Holiday' else 0)\n",
    "\n",
    "test_df['month'] = test_df['date'].dt.month\n",
    "test_df['day'] = test_df['date'].dt.day\n",
    "test_df['dayofweek'] = test_df['date'].dt.dayofweek\n",
    "test_df['is_promotion'] = test_df['onpromotion'].apply(lambda x: 1 if x else 0)\n",
    "test_df['is_holiday'] = test_df['type'].apply(lambda x: 1 if x == 'Holiday' else 0)\n",
    "\n",
    "# 训练模型\n",
    "from sklearn.ensemble import RandomForestRegressor\n",
    "\n",
    "X_train = train_df[['store_nbr', 'family', 'month', 'day', 'dayofweek', 'is_promotion', 'is_holiday', 'dcoilwtico']]\n",
    "y_train = train_df['sales']\n",
    "X_test = test_df[['store_nbr', 'family', 'month', 'day', 'dayofweek', 'is_promotion', 'is_holiday', 'dcoilwtico']]\n",
    "\n",
    "rf = RandomForestRegressor(n_estimators=100, max_depth=10, random_state=42)\n",
    "rf.fit(X_train, y_train)\n",
    "\n",
    "# 预测销量\n",
    "y_pred = rf.predict(X_test)\n",
    "\n",
    "# 输出结果\n",
    "output = pd.DataFrame({'id': test_df['id'], 'sales': y_pred})\n",
    "output.to_csv('submission_baseline.csv', index=False)"
   ]
  }
 ],
 "metadata": {
  "kernelspec": {
   "display_name": "DMcourse",
   "language": "python",
   "name": "python3"
  },
  "language_info": {
   "codemirror_mode": {
    "name": "ipython",
    "version": 3
   },
   "file_extension": ".py",
   "mimetype": "text/x-python",
   "name": "python",
   "nbconvert_exporter": "python",
   "pygments_lexer": "ipython3",
   "version": "3.10.11"
  },
  "orig_nbformat": 4
 },
 "nbformat": 4,
 "nbformat_minor": 2
}
